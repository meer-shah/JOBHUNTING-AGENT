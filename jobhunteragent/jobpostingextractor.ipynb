{
 "cells": [
  {
   "cell_type": "code",
   "execution_count": 53,
   "id": "659ff05d-a1a2-4c6f-95c4-475f765c8c02",
   "metadata": {},
   "outputs": [],
   "source": [
    "import getpass\n",
    "import os\n",
    "\n",
    "if \"GROQ_API_KEY\" not in os.environ:\n",
    "    os.environ[\"GROQ_API_KEY\"] = getpass.getpass(\"Enter your Groq API key: \")"
   ]
  },
  {
   "cell_type": "code",
   "execution_count": 54,
   "id": "7d3a44a1-4a37-4710-a890-17512c3b5a67",
   "metadata": {},
   "outputs": [],
   "source": [
    "from langchain_groq import ChatGroq\n",
    "\n",
    "llm = ChatGroq(\n",
    "    model=\"llama-3.1-8b-instant\",\n",
    "    temperature=0,\n",
    "    max_tokens=None,\n",
    "    timeout=None,\n",
    "    max_retries=2,\n",
    "    # grok_api_key='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'\n",
    "    # other params...\n",
    ")"
   ]
  },
  {
   "cell_type": "code",
   "execution_count": 70,
   "id": "bd9ce471-6a86-4c0e-972d-7555a1c8a634",
   "metadata": {},
   "outputs": [
    {
     "ename": "SyntaxError",
     "evalue": "invalid syntax (3600014593.py, line 1)",
     "output_type": "error",
     "traceback": [
      "\u001b[1;36m  Cell \u001b[1;32mIn[70], line 1\u001b[1;36m\u001b[0m\n\u001b[1;33m    from './howtousegrok' import llm\u001b[0m\n\u001b[1;37m         ^\u001b[0m\n\u001b[1;31mSyntaxError\u001b[0m\u001b[1;31m:\u001b[0m invalid syntax\n"
     ]
    }
   ],
   "source": [
    "\n",
    "response= llm.invoke(\"can you cook food?\")\n",
    "print(response.content)"
   ]
  },
  {
   "cell_type": "code",
   "execution_count": 61,
   "id": "529deedd-49f2-4188-b5f1-70bf2c7544df",
   "metadata": {},
   "outputs": [],
   "source": [
    "from langchain_core.prompts import PromptTemplate\n",
    "\n",
    "def extract_job_and_contact_info(job_paragraph: str) -> str:\n",
    "    prompt_extract = PromptTemplate.from_template(\"\"\"\n",
    "### JOB POSTING ANALYSIS TASK\n",
    "Analyze this job posting and extract structured information:\n",
    "\n",
    "{job_paragraph}\n",
    "\n",
    "### OUTPUT REQUIREMENTS:\n",
    "- Return JSON with two root keys: \"employer_info\" and \"position_details\"\n",
    "- Output ONLY valid JSON - no commentary\n",
    "- Include fields ONLY when explicitly mentioned\n",
    "- Maintain original wording for values\n",
    "- Handle all job types (medical, tech, education, etc.)\n",
    "\n",
    "1. EMPLOYER_INFO (hiring organization/individual):\n",
    "{{\n",
    "    \"full_name\": \"(if individual)\",\n",
    "    \"organization\": \"(company/institution name)\",\n",
    "    \"department\": \"(specific division/team)\",\n",
    "    \"industry\": \"(medical, tech, education, etc.)\",\n",
    "    \"contact\": {{\n",
    "        \"email\": \"(preferred)\",\n",
    "        \"phone\": \"(if provided)\",\n",
    "        \"website\": \"(career portal/LinkedIn)\"\n",
    "    }},\n",
    "    \"location\": {{\n",
    "        \"city\": \"(primary workplace)\",\n",
    "        \"country\": \"(if mentioned)\",\n",
    "        \"remote_options\": \"(hybrid/remote flags)\"\n",
    "    }},\n",
    "    \"organization_type\": \"(hospital, startup, university, etc.)\",\n",
    "    \"key_attributes\": [\"list\", \"of\", \"notable\", \"features\"]\n",
    "}}\n",
    "\n",
    "2. POSITION_DETAILS (job characteristics):\n",
    "{{\n",
    "    \"title\": \"(official job name)\",\n",
    "    \"type\": \"(full-time, contract, internship)\",\n",
    "    \"category\": \"(clinical, engineering, research, etc.)\",\n",
    "    \"level\": \"(junior, senior, principal)\",\n",
    "    \"salary\": {{\n",
    "        \"range\": \"(numbers or description)\",\n",
    "        \"currency\": \"(if specified)\",\n",
    "        \"bonuses\": \"(signing/performance bonuses)\"\n",
    "    }},\n",
    "    \"requirements\": {{\n",
    "        \"education\": \"(degrees/certifications)\",\n",
    "        \"experience\": \"(years/type)\",\n",
    "        \"skills\": [\"technical\", \"and\", \"soft\", \"skills\"],\n",
    "        \"licenses\": \"(industry-specific certifications)\"\n",
    "    }},\n",
    "    \"responsibilities\": [\"list\", \"of\", \"core\", \"duties\"],\n",
    "    \"benefits\": [\"healthcare\", \"retirement\", \"perks\"],\n",
    "    \"deadlines\": {{\n",
    "        \"application\": \"(DD/MM/YYYY or relative)\",\n",
    "        \"start_date\": \"(if specified)\"\n",
    "    }},\n",
    "    \"travel_requirements\": \"(percentage or description)\",\n",
    "    \"reporting_structure\": \"(supervisory relationships)\",\n",
    "    \"performance_metrics\": \"(KPIs/success measures)\"\n",
    "}}\n",
    "\n",
    "### OUTPUT ONLY VALID JSON WITH NO MARKDOWN FORMATTING\n",
    "\"\"\")\n",
    "    chain_extract = prompt_extract | llm\n",
    "    # prompt = prompt_extract.format(job_paragraph=job_paragraph)\n",
    "    response = chain_extract.invoke({'job_paragraph': job_paragraph})\n",
    "    return response.content"
   ]
  },
  {
   "cell_type": "code",
   "execution_count": 62,
   "id": "cf65071c-48be-41be-8b58-018353e9b82b",
   "metadata": {},
   "outputs": [],
   "source": [
    "import re\n",
    "\n",
    "def validate_or_ask_email(extracted_json: dict) -> str:\n",
    "    # Check nested contact info first, then fallback to manual input\n",
    "    email = extracted_json.get(\"employer_info\", {}).get(\"contact\", {}).get(\"email\")\n",
    "    \n",
    "    if email and re.match(r\"^[\\w\\.-]+@[a-zA-Z\\d\\.-]+\\.[a-zA-Z]{2,}$\", email):\n",
    "        return email\n",
    "    \n",
    "    # If no valid email found, prompt user\n",
    "    print(\"\\n✉️ No valid email found in job posting. Please provide one:\")\n",
    "    while True:\n",
    "        manual_email = input(\"Contact email: \").strip()\n",
    "        if re.match(r\"^[\\w\\.-]+@[a-zA-Z\\d\\.-]+\\.[a-zA-Z]{2,}$\", manual_email):\n",
    "            return manual_email\n",
    "        print(\"Invalid format. Please enter a valid email address (e.g. name@company.com)\")"
   ]
  },
  {
   "cell_type": "code",
   "execution_count": 67,
   "id": "0bb39bf8-e753-4fbb-93b8-2ee410335fe1",
   "metadata": {},
   "outputs": [],
   "source": [
    "from langchain_core.output_parsers import JsonOutputParser\n",
    "def run_outreach_intake():\n",
    "    print(\"📋 Paste the job posting below:\")\n",
    "    job_text = input(\"Job Posting: \")\n",
    "\n",
    "    print(\"\\n🔍 Extracting details using LLM...\")\n",
    "    ext = extract_job_and_contact_info(job_text)\n",
    "    parser = JsonOutputParser()\n",
    "    extracted = parser.parse(ext)\n",
    "    print(\"\\n✅ Extracted JSON:\\n\", extracted)\n",
    "\n",
    "    extracted_json = extracted\n",
    "\n",
    "    # Get nested contact information\n",
    "    contact_info = extracted_json.get(\"employer_info\", {}).get(\"contact\", {})\n",
    "    contact_email = validate_or_ask_email({\n",
    "        \"contact_email\": contact_info.get(\"email\"),\n",
    "        **extracted_json\n",
    "    })\n",
    "\n",
    "    print(\"\\n📌 Final Info:\")\n",
    "    print(f\"Industry: {extracted_json.get('employer_info', {}).get('industry', 'N/A')}\")\n",
    "    print(f\"Organization: {extracted_json.get('employer_info', {}).get('organization', 'N/A')}\")\n",
    "    print(\"Contact Email:\", contact_email)\n",
    "    print(\"\\nPosition Details:\")\n",
    "    for key, value in extracted_json.get(\"position_details\", {}).items():\n",
    "        print(f\"- {key.replace('_', ' ').title()}: {value or 'N/A'}\")\n",
    "\n",
    "    return {\n",
    "        \"employer_info\": extracted_json.get(\"employer_info\", {}),\n",
    "        \"position_details\": extracted_json.get(\"position_details\", {}),\n",
    "        \"contact_email\": contact_email\n",
    "    }"
   ]
  },
  {
   "cell_type": "code",
   "execution_count": 68,
   "id": "153c249c-aee2-44a0-b023-d2ca4ee3df86",
   "metadata": {},
   "outputs": [
    {
     "name": "stdout",
     "output_type": "stream",
     "text": [
      "📋 Paste the job posting below:\n"
     ]
    },
    {
     "name": "stdin",
     "output_type": "stream",
     "text": [
      "Job Posting:  𝐅𝐢𝐧𝐚𝐥 𝐂𝐚𝐥𝐥  𝐎𝐧𝐥𝐲 𝟑 𝐃𝐚𝐲𝐬 𝐋𝐞𝐟𝐭  𝑨𝒑𝒑𝒍𝒊𝒄𝒂𝒕𝒊𝒐𝒏𝒔 𝒇𝒐𝒓 𝒕𝒉𝒆 𝑨𝑰/𝑴𝑳 𝑰𝒏𝒕𝒆𝒓𝒏𝒔𝒉𝒊𝒑 𝑷𝒓𝒐𝒈𝒓𝒂𝒎 𝒂𝒕 𝑨𝒓𝒕𝒊𝒇𝒊𝒄𝒊𝒛𝒆𝒏 𝒂𝒓𝒆 𝒄𝒍𝒐𝒔𝒊𝒏𝒈 𝒔𝒐𝒐𝒏!  If you've been planning to apply, now's the time. No further extensions.  Don’t miss the opportunity to join one of the most exciting AI Internship Program.  𝐃𝐞𝐚𝐝𝐥𝐢𝐧𝐞: 𝟏𝟎-𝟎𝟓-𝟐𝟎𝟐𝟓  𝐀𝐩𝐩𝐥𝐲 𝐚𝐭: hiring@artificizen.com\n"
     ]
    },
    {
     "name": "stdout",
     "output_type": "stream",
     "text": [
      "\n",
      "🔍 Extracting details using LLM...\n",
      "\n",
      "✅ Extracted JSON:\n",
      " {'employer_info': {'organization': 'Artificizen', 'industry': 'Tech', 'contact': {'email': 'hiring@artificizen.com'}, 'location': {'city': 'Not specified'}, 'organization_type': 'Startup', 'key_attributes': []}, 'position_details': {'title': 'AI Internship Program', 'type': 'Internship', 'category': 'Research', 'level': 'Junior', 'salary': {'range': 'Not specified'}, 'requirements': {'education': 'Not specified', 'experience': 'Not specified', 'skills': [], 'licenses': 'Not specified'}, 'responsibilities': ['Join one of the most exciting AI Internship Program'], 'benefits': [], 'deadlines': {'application': '10-05-2025'}, 'travel_requirements': 'Not specified', 'reporting_structure': 'Not specified', 'performance_metrics': 'Not specified'}}\n",
      "\n",
      "📌 Final Info:\n",
      "Industry: Tech\n",
      "Organization: Artificizen\n",
      "Contact Email: hiring@artificizen.com\n",
      "\n",
      "Position Details:\n",
      "- Title: AI Internship Program\n",
      "- Type: Internship\n",
      "- Category: Research\n",
      "- Level: Junior\n",
      "- Salary: {'range': 'Not specified'}\n",
      "- Requirements: {'education': 'Not specified', 'experience': 'Not specified', 'skills': [], 'licenses': 'Not specified'}\n",
      "- Responsibilities: ['Join one of the most exciting AI Internship Program']\n",
      "- Benefits: N/A\n",
      "- Deadlines: {'application': '10-05-2025'}\n",
      "- Travel Requirements: Not specified\n",
      "- Reporting Structure: Not specified\n",
      "- Performance Metrics: Not specified\n"
     ]
    },
    {
     "data": {
      "text/plain": [
       "{'employer_info': {'organization': 'Artificizen',\n",
       "  'industry': 'Tech',\n",
       "  'contact': {'email': 'hiring@artificizen.com'},\n",
       "  'location': {'city': 'Not specified'},\n",
       "  'organization_type': 'Startup',\n",
       "  'key_attributes': []},\n",
       " 'position_details': {'title': 'AI Internship Program',\n",
       "  'type': 'Internship',\n",
       "  'category': 'Research',\n",
       "  'level': 'Junior',\n",
       "  'salary': {'range': 'Not specified'},\n",
       "  'requirements': {'education': 'Not specified',\n",
       "   'experience': 'Not specified',\n",
       "   'skills': [],\n",
       "   'licenses': 'Not specified'},\n",
       "  'responsibilities': ['Join one of the most exciting AI Internship Program'],\n",
       "  'benefits': [],\n",
       "  'deadlines': {'application': '10-05-2025'},\n",
       "  'travel_requirements': 'Not specified',\n",
       "  'reporting_structure': 'Not specified',\n",
       "  'performance_metrics': 'Not specified'},\n",
       " 'contact_email': 'hiring@artificizen.com'}"
      ]
     },
     "execution_count": 68,
     "metadata": {},
     "output_type": "execute_result"
    }
   ],
   "source": [
    "run_outreach_intake()"
   ]
  },
  {
   "cell_type": "code",
   "execution_count": null,
   "id": "9a5adb9d-5348-422b-b334-afd708d6266c",
   "metadata": {},
   "outputs": [],
   "source": []
  }
 ],
 "metadata": {
  "kernelspec": {
   "display_name": "Python 3 (ipykernel)",
   "language": "python",
   "name": "python3"
  },
  "language_info": {
   "codemirror_mode": {
    "name": "ipython",
    "version": 3
   },
   "file_extension": ".py",
   "mimetype": "text/x-python",
   "name": "python",
   "nbconvert_exporter": "python",
   "pygments_lexer": "ipython3",
   "version": "3.12.4"
  }
 },
 "nbformat": 4,
 "nbformat_minor": 5
}
