{
 "cells": [
  {
   "cell_type": "code",
   "execution_count": 25,
   "id": "7c7078bc-8eda-42ea-b4e8-ac4f595236e7",
   "metadata": {},
   "outputs": [],
   "source": [
    "import getpass\n",
    "import os\n",
    "\n",
    "if \"GROQ_API_KEY\" not in os.environ:\n",
    "    os.environ[\"GROQ_API_KEY\"] = getpass.getpass(\"Enter your Groq API key: \")"
   ]
  },
  {
   "cell_type": "code",
   "execution_count": 26,
   "id": "18e98b66-0cd4-4ac3-aa80-e452e5f60094",
   "metadata": {},
   "outputs": [],
   "source": [
    "from langchain_groq import ChatGroq\n",
    "# Create the LLM instance\n",
    "llm = ChatGroq(\n",
    "    model=\"llama-3.1-8b-instant\",\n",
    "    temperature=0,\n",
    "    max_tokens=None,\n",
    "    timeout=None,\n",
    "    max_retries=2,\n",
    "    # grok_api_key='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'\n",
    "    # other params...\n",
    ")\n",
    "\n",
    "# Export the LLM instance\n",
    "__all__ = ['llm']"
   ]
  },
  {
   "cell_type": "code",
   "execution_count": 27,
   "id": "53ed4250-c4a9-42dd-b3e9-ca7f3cc82285",
   "metadata": {},
   "outputs": [
    {
     "name": "stdout",
     "output_type": "stream",
     "text": [
      "I'm not capable of physically cooking food, but I can provide you with a wide range of recipes, cooking instructions, and techniques to help you prepare delicious meals. I can also assist with meal planning, ingredient suggestions, and cooking time estimates.\n",
      "\n",
      "If you provide me with a specific dish or cuisine you're interested in, I can offer you a recipe and step-by-step instructions on how to cook it. I can also help with:\n",
      "\n",
      "- Scaling recipes up or down for different serving sizes\n",
      "- Substituting ingredients based on dietary restrictions or preferences\n",
      "- Providing cooking times and temperatures for various methods (e.g., baking, grilling, sautéing)\n",
      "- Offering suggestions for side dishes or accompaniments\n",
      "\n",
      "Keep in mind that I'm a text-based AI and don't have the ability to physically interact with the kitchen or cook food. However, I can provide you with the knowledge and guidance you need to become a skilled cook.\n",
      "\n",
      "What type of dish or cuisine would you like to cook?\n"
     ]
    }
   ],
   "source": [
    "response= llm.invoke(\"can you cook food?\")\n",
    "print(response.content)"
   ]
  },
  {
   "cell_type": "code",
   "execution_count": null,
   "id": "6da36672-6877-42d3-83a9-603117913bce",
   "metadata": {},
   "outputs": [],
   "source": []
  }
 ],
 "metadata": {
  "kernelspec": {
   "display_name": "Python 3",
   "language": "python",
   "name": "python3"
  },
  "language_info": {
   "codemirror_mode": {
    "name": "ipython",
    "version": 3
   },
   "file_extension": ".py",
   "mimetype": "text/x-python",
   "name": "python",
   "nbconvert_exporter": "python",
   "pygments_lexer": "ipython3",
   "version": "3.12.4"
  }
 },
 "nbformat": 4,
 "nbformat_minor": 5
}
